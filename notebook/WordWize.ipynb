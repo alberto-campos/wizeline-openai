{
 "cells": [
  {
   "cell_type": "code",
   "execution_count": null,
   "id": "719703e3-1d9b-4502-a9d3-d576de37f867",
   "metadata": {},
   "outputs": [],
   "source": [
    "import numpy as np\n",
    "import os\n",
    "import urllib.request as ur\n",
    "import ipywidgets as widgets\n",
    "\n",
    "from openai import OpenAI\n",
    "from IPython.display import IFrame, HTML"
   ]
  },
  {
   "cell_type": "code",
   "execution_count": null,
   "id": "5cc60ccf-d3db-4794-af5e-c73f875af117",
   "metadata": {},
   "outputs": [],
   "source": [
    "client = OpenAI(\n",
    "    # defaults to os.environ.get(\"OPENAI_API_KEY\")\n",
    "   openai.api_key = os.getenv('OPENAI_API_KEY')\n",
    "#)"
   ]
  },
  {
   "cell_type": "code",
   "execution_count": null,
   "id": "5f4eab4b-aefb-48a0-bc42-6ebb6ffb0c84",
   "metadata": {},
   "outputs": [],
   "source": [
    "def analyze_transcription(transcription):\n",
    "    # OpenAI API call\n",
    "    response = client.chat.completions.create(\n",
    "        model=\"gpt-3.5-turbo-1106\",\n",
    "        temperature=1.1,\n",
    "        max_tokens=100,\n",
    "        messages=[\n",
    "            {\"role\": \"system\", \"content\": \"You are an English professional in linguistics, teaching English as a Second Language to Spanish-speaking individuals who seek feedback on expressing themselves in natural English. You provide explanations and use an analogy, using the Spanish language as an example. You empathize and give an example: saying 'esta computadoras están disponible' is incorrect; instead, you should say 'estas computadoras están disponibles' to further illustrate your explanation.\"},\n",
    "            {\"role\": \"user\", \"content\": transcription},\n",
    "        ]\n",
    "    )\n",
    "\n",
    "    # Extract the AI-generated response\n",
    "   ##  ai_response = response['choices'][0]['message']['content']\n",
    "    ai_response = response.choices[0].message.content\n",
    "    \n",
    "    return ai_response\n",
    "\n",
    "def display_recommendations(user_input, ai_output):\n",
    "    display(HTML(f\"<strong>User Input:</strong> {user_input}\"))\n",
    "    display(HTML(f\"<strong>AI Output:</strong> {ai_output}\"))\n",
    "\n",
    "# Example transcription from a Spanish-speaking user\n",
    "user_transcription = \"\"\"\n",
    "Hello everyone, my name is Mr. Rodrigo Rodriguez.\n",
    "\n",
    "Hope your doing well. How do you call that? I want to make sure because I don't want to do a mistake.\n",
    "\n",
    "The bus is late, no? \n",
    "\n",
    "I guess is not good that the bus is always late.\n",
    "\n",
    "\n",
    "\"\"\"\n",
    "\n",
    "# Analyze the transcription and get AI-generated recommendations\n",
    "ai_recommendations = analyze_transcription(user_transcription)\n",
    "\n",
    "# Display the results\n",
    "display_recommendations(user_transcription, ai_recommendations)"
   ]
  }
 ],
 "metadata": {
  "kernelspec": {
   "display_name": "Python 3 (ipykernel)",
   "language": "python",
   "name": "python3"
  },
  "language_info": {
   "codemirror_mode": {
    "name": "ipython",
    "version": 3
   },
   "file_extension": ".py",
   "mimetype": "text/x-python",
   "name": "python",
   "nbconvert_exporter": "python",
   "pygments_lexer": "ipython3",
   "version": "3.10.4"
  }
 },
 "nbformat": 4,
 "nbformat_minor": 5
}
